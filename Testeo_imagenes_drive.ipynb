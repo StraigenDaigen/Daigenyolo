{
  "nbformat": 4,
  "nbformat_minor": 0,
  "metadata": {
    "colab": {
      "name": "Testeo_imagenes_drive",
      "version": "0.3.2",
      "provenance": [],
      "collapsed_sections": [],
      "toc_visible": true
    },
    "kernelspec": {
      "name": "python3",
      "display_name": "Python 3"
    },
    "accelerator": "GPU"
  },
  "cells": [
    {
      "cell_type": "markdown",
      "metadata": {
        "id": "MxePDQVc-z3z",
        "colab_type": "text"
      },
      "source": [
        "# **Solo una vez**\n",
        "\n"
      ]
    },
    {
      "cell_type": "code",
      "metadata": {
        "id": "Nqg55ir776of",
        "colab_type": "code",
        "colab": {}
      },
      "source": [
        "#INICIO DEL PROGRAMA DONDE SE INTALAN TODOS LOS PROGRAMAS NECESIRIOS\n",
        "!pip install pydrive\n",
        "!pip install Cython \n",
        "!pip install python-utils\n",
        "!apt-get -qq install -y libarchive-dev && pip install -q -U libarchive\n",
        "# INSTALACION DE LIBRERIAS DE USO DE DRIVE EN CONJUNTO\n",
        "import libarchive\n",
        "from pydrive.auth import GoogleAuth\n",
        "from pydrive.drive import GoogleDrive\n",
        "from google.colab import auth\n",
        "from google.colab import files\n",
        "\n",
        "# ACTULIZADOR\n",
        "!pip install -e .\n",
        "\n",
        "#CREAR UNA CARPETA DONDE ESTA TODA LA INFORMACION DEL DRIVE DONDE SE INICIE SESION\n",
        "from google.colab import drive\n",
        "drive.mount('/content/gdrive')\n"
      ],
      "execution_count": 0,
      "outputs": []
    },
    {
      "cell_type": "markdown",
      "metadata": {
        "id": "1i5pz6J4-35z",
        "colab_type": "text"
      },
      "source": [
        "# Metodos una sola vez"
      ]
    },
    {
      "cell_type": "code",
      "metadata": {
        "id": "X1Z6dhqg-4hz",
        "colab_type": "code",
        "colab": {}
      },
      "source": [
        "def adquirir_imagen():\n",
        "  #moverla en caso tal que este en otra carpeta\n",
        "  import shutil\n",
        "  import os\n",
        "  shutil.copy2('/content/gdrive/My Drive/Todo_Tesis_Testeo/frames/video/Monitoreo/grabs/image.jpg','/content/gdrive/My Drive/Todo_Tesis_Testeo/Entrenamiento/darkflow/sample_img/foto/')\n",
        "  #os.rename('/content/gdrive/My Drive/Todo_Tesis_Testeo/frames/video/Monitoreo/grabs/image.jpg','/content/gdrive/My Drive/Todo_Tesis_Testeo/Entrenamiento/darkflow/sample_img/foto/image.jpg') \n",
        "  \n",
        "  ## ver si se actualizo\n",
        "  %cd /content/gdrive/My Drive/Todo_Tesis_Testeo/Entrenamiento/darkflow/sample_img/foto\n",
        "  #codigo que si no existe crearla\n",
        "  %pylab inline\n",
        "  import matplotlib.pyplot as plt\n",
        "  import matplotlib.image as mpimg\n",
        "  font = {'family': 'serif',\n",
        "          'color':  'white',\n",
        "          'weight': 'normal',\n",
        "          'size': 16,\n",
        "          }\n",
        "  img=mpimg.imread(\"image.jpg\")\n",
        "  plt.title('Imagen Adquirida', fontdict=font)\n",
        "  imgplot = plt.imshow(img)\n",
        "  plt.show()\n",
        "  \n",
        "def yolo():\n",
        "  import time\n",
        "  import os\n",
        "  %cd /content/gdrive/My Drive/Todo_Tesis_Testeo/Entrenamiento/darkflow\n",
        "  !python flow --imgdir sample_img/foto/ --model cfg/yolo.cfg --load bin/yolov2.weights --threshold 0.07 --gpu 1.0\n",
        "  \n",
        "  time.sleep(3)\n",
        "  #%cd /content/drive/My Drive/Todo_Tesis_Testeo/Entrenamiento/tensorflow-for-poets-2\n",
        "  import shutil\n",
        "  \n",
        "  #MOVIMIENTO DE LA IMAGEN RESULTANTE A LA OTRA RED\n",
        "  src='/content/gdrive/My Drive/Todo_Tesis_Testeo/Entrenamiento/darkflow/sample_img/foto/out/image.jpg'\n",
        "  drc='/content/gdrive/My Drive/Todo_Tesis_Testeo/Entrenamiento/tensorflow-for-poets-2/tf_files/validacion'\n",
        "  drc2='/content/gdrive/My Drive/Todo_Tesis_Testeo/Entrenamiento/tensorflow-for-poets-2/scripts/'\n",
        "  \n",
        "  #os.link(src,drc+'/'+'image.jpg')\n",
        "  shutil.copy(src,drc2)\n",
        "  os.rename(src,drc+'/'+'image.jpg')\n",
        "  time.sleep(5)\n",
        "  print(\"Moviendo resultado yolo\")\n",
        "  # DE AQUI SALE LA IMAGEN PROCESADA CON LA IDENTIFCIACION DE PERSONAS Y LOS CORRESPONDIENTES CUADROS DELIMITADORES\n",
        "  \n",
        "def tfp():\n",
        "  # ENTRA LA IMAGEN PROCESADA ANTERIORMENTE PARA SER CLASIFICADA\n",
        "  %cd /content/gdrive/My Drive/Todo_Tesis_Testeo/Entrenamiento/tensorflow-for-poets-2\n",
        "  %pylab inline\n",
        "  import matplotlib.pyplot as plt\n",
        "  import matplotlib.image as mpimg\n",
        "  font = {'family': 'serif',\n",
        "          'color':  'white',\n",
        "          'weight': 'normal',\n",
        "          'size': 16,\n",
        "          }\n",
        "  img=mpimg.imread(\"tf_files/validacion/image.jpg\")\n",
        "  plt.title('Imagen con yolo', fontdict=font)\n",
        "  imgplot = plt.imshow(img)\n",
        "  plt.show()\n",
        "  \n",
        "  print(\"Imagen a procesar\")  \n",
        "  \n",
        "  !python -m scripts.label_image \\\n",
        "      --graph=tf_files/retrained_graph.pb\\\n",
        "      --image=tf_files/validacion/'image.jpg'\n",
        "  \n",
        "  print(\"RESULTADO\")\n",
        "  \n",
        "  # SE OBTIENE EL RESULTADO DE LA IMAGEN CON SU NIVEL DE OCUPACION CORRESPONDIENTE\n",
        "  \n",
        "def guardar_imagen():\n",
        "  \n",
        "  # AQUI SERA GUARDADA LA IMAGEN EN EL DRIVE PARA POSTERIOIR MENTE CON NEATBEAN ALMACENARLA EN MYSQL\n",
        "  import shutil \n",
        "  import os \n",
        "\n",
        "  path ='/content/gdrive/My Drive/Todo_Tesis_Testeo/Entrenamiento/tensorflow-for-poets-2'\n",
        "  dst_dir ='/content/gdrive/My Drive/Todo_Tesis_Testeo/registro/base_de_datos/'\n",
        "  dst_dir2='/content/gdrive/My Drive/Todo_Tesis_Testeo/registro' \n",
        "  \n",
        "  print(\"Buscando para enviar\")\n",
        "  \n",
        "\n",
        "  for file in os.listdir(path):\n",
        "    if file.endswith(\".jpg\"):\n",
        "      shutil.copy2(path+'/'+file,dst_dir)\n",
        "      shutil.move(path+'/'+file,dst_dir2)\n"
      ],
      "execution_count": 0,
      "outputs": []
    },
    {
      "cell_type": "markdown",
      "metadata": {
        "id": "l-Ku1LohBcs-",
        "colab_type": "text"
      },
      "source": [
        "# **Correr el programa para que se quede funcionando**"
      ]
    },
    {
      "cell_type": "code",
      "metadata": {
        "id": "IgY_7rBZ_IDz",
        "colab_type": "code",
        "colab": {}
      },
      "source": [
        "# SE IMPORTAN LAS LIBRERIAS A UTILIZAR \n",
        "import cv2\n",
        "import time\n",
        "print(\"INICIO DEL PROGRAMA\")\n",
        "#bucle INCINITO DE INICIO DE PROGRAMA\n",
        "while(True):\n",
        "  print(\"ADQUIRIENDO UNA IMAGEN\")\n",
        "  adquirir_imagen()\n",
        "  print(\"PASANDOLA A YOLO PARA DETECCION DE PERSONAS\")\n",
        "  yolo()\n",
        "  print(\"TIEMPO DE ESPERA HASTA QUE EL SISTEMA SE ACTUALICE CON LA IMAGEN PROCESADA\")\n",
        "  time.sleep(2)\n",
        "  print(\"INICIO DE LA CLASIFICACION DE LA IMAGNE ADQUIRIDA\")\n",
        "  tfp() \n",
        "  print(\"TIEMPO DE ESPERA HASTA QUE EL SISTEMA SE ACTUALICE CON LA IMAGEN PROCESADA\")\n",
        "  time.sleep(2)\n",
        "  print(\"PROCEDE A GUARDAR LA IMAGEN EN DRIVE PARA SU ALMACENAMIENTO DE REGISTRO EN MYSQL\")\n",
        "  guardar_imagen() \n",
        "\n",
        "\n",
        "  #ESPERAR 15 SEGUNDOS\n",
        "\n",
        "  print(\"ESPERANDO QUE SE ACTUALICE\")\n",
        "  time.sleep(15)\n",
        "  \n",
        "  \n",
        "#  if ord('a')==cv2.waitKey(10):\n",
        " #   print(\"funciona\")\n",
        "  #  break"
      ],
      "execution_count": 0,
      "outputs": []
    }
  ]
}