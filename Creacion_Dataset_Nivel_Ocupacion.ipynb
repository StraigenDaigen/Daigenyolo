{
  "nbformat": 4,
  "nbformat_minor": 0,
  "metadata": {
    "colab": {
      "name": "Creacion_Dataset_Nivel_Ocupacion",
      "version": "0.3.2",
      "provenance": [],
      "toc_visible": true
    },
    "kernelspec": {
      "name": "python3",
      "display_name": "Python 3"
    },
    "accelerator": "GPU"
  },
  "cells": [
    {
      "cell_type": "markdown",
      "metadata": {
        "id": "AVC9fgcASahd",
        "colab_type": "text"
      },
      "source": [
        "# CREANDO ACCESO A DRIVE PARA LA PREPARACION LOS DATOS"
      ]
    },
    {
      "cell_type": "code",
      "metadata": {
        "id": "jS1v49sAtTk9",
        "colab_type": "code",
        "colab": {}
      },
      "source": [
        "#CREACION DE CARPETA CON LA INFORMACION DEL DRIVE QUE INICIE SESION\n",
        "from google.colab import drive\n",
        "drive.mount('/content/drive')"
      ],
      "execution_count": 0,
      "outputs": []
    },
    {
      "cell_type": "code",
      "metadata": {
        "id": "hRgJwcF3rntr",
        "colab_type": "code",
        "colab": {}
      },
      "source": [
        "#MANEJO DE CARPETAS\n",
        "%cd /\n",
        "%cd content/drive/My Drive/Todo_Tesis/LUCAS \n",
        "\n",
        "!pip install pydrive\n",
        "!git clone https://github.com/thtrieu/darkflow.git\n",
        "!pip install Cython \n",
        "!pip install pytube\n",
        "!pip install PyDrive\n",
        "!pip install python-utils\n",
        "\n",
        "#CREACION DE CARPETA EN CASO QUE NO EXISTA Y UBICARSE EN ESA\n",
        "import os\n",
        "os.chdir('/content/drive/My Drive/Todo_Tesis/LUCAS/darkflow') ## Cambiar\n",
        "!pwd\n",
        "\n",
        "!pip install -e .\n",
        "# DESCARGAR CODIGO QUE SE ENCUENTRAN EN GITHUB\n",
        "!git clone https://github.com/StraigenDaigen/Daigenyolo.git\n",
        "\n",
        "!pwd\n",
        "\n",
        "!pip install -e ."
      ],
      "execution_count": 0,
      "outputs": []
    },
    {
      "cell_type": "code",
      "metadata": {
        "id": "DvgqPcqwSKW8",
        "colab_type": "code",
        "colab": {}
      },
      "source": [
        "#IMPORTAR LIBRERIAS\n",
        "from darkflow.net.build import TFNet\n",
        "import cv2\n",
        "import matplotlib.pyplot as plt\n",
        "import numpy as np\n",
        "import time\n",
        "import pydrive\n",
        "from tqdm import tqdm\n"
      ],
      "execution_count": 0,
      "outputs": []
    },
    {
      "cell_type": "code",
      "metadata": {
        "id": "TJ0w0c92vLmv",
        "colab_type": "code",
        "colab": {}
      },
      "source": [
        "import pydrive\n",
        "import time\n",
        "import os\n",
        "from tqdm import tqdm\n",
        "from pydrive.auth import GoogleAuth\n",
        "from pydrive.drive import GoogleDrive\n",
        "from google.colab import auth\n",
        "from google.colab import files\n",
        "from oauth2client.client import GoogleCredentials\n",
        "\n",
        "#AUTENTIFICION DE USUARIS QUE UTILIZARA LOS SERVICOS DE LA NUBE\n",
        "auth.authenticate_user()\n",
        "gauth = GoogleAuth()\n",
        "gauth.credentials = GoogleCredentials.get_application_default()\n",
        "drive = GoogleDrive(gauth)\n",
        "\n",
        "\n",
        "# CARGAR LOS PESOS DE ENTRENAMIENTO PARA EL YOLO\n",
        "\n",
        "newpath = '/content/drive/My Drive/Todo_Tesis/LUCAS/darkflow/bin'\n",
        "if not os.path.exists(newpath):\n",
        "  os.makedirs(newpath)\n",
        "  \n",
        "#DESCARGAR LOS PESOS QUE SE ENCUENTRAN EN UNA CARPETA DE DRIVE\n",
        "\n",
        "download = drive.CreateFile({'id': '1rSne0luPzETpuSHk742ezr4aX0FCWcBV'}) # insert the fild ID here\n",
        "download.GetContentFile('/content/drive/My Drive/Todo_Tesis/LUCAS/darkflow/bin/yolov2.weights')"
      ],
      "execution_count": 0,
      "outputs": []
    },
    {
      "cell_type": "code",
      "metadata": {
        "id": "vCvvrZbAt9WT",
        "colab_type": "code",
        "colab": {}
      },
      "source": [
        "#OPCIONES DEL YOLO\n",
        "options = {\n",
        "    'model': 'cfg/yolo.cfg',\n",
        "    'load': 'bin/yolov2.weights',\n",
        "    'threshold': 0.1,\n",
        "    #'demo': '/content/sample_data/cafeteriamedia',\n",
        "    'gpu' : 0.8\n",
        "          }"
      ],
      "execution_count": 0,
      "outputs": []
    },
    {
      "cell_type": "code",
      "metadata": {
        "id": "s_i7YLMWokZB",
        "colab_type": "code",
        "colab": {}
      },
      "source": [
        "#INICIALIZAR OPCIONES \n",
        "%cd /content/drive/My Drive/Todo_Tesis/LUCAS/darkflow\n",
        "tfnet = TFNet(options)"
      ],
      "execution_count": 0,
      "outputs": []
    },
    {
      "cell_type": "markdown",
      "metadata": {
        "id": "n6TGWJILS7uq",
        "colab_type": "text"
      },
      "source": [
        "# METODOS  ESTANDARIZADOS DE YOLO"
      ]
    },
    {
      "cell_type": "code",
      "metadata": {
        "id": "OCJz4ayC7GHj",
        "colab_type": "code",
        "colab": {}
      },
      "source": [
        "def predict_img():\n",
        "  \n",
        "  #result = tfnet.return_predict(link)\n",
        "  result = tfnet.return_predict()\n",
        "   \n",
        "\n",
        "  for n,value in enumerate(result):\n",
        "    \n",
        "    tl = (result[n]['topleft']['x'], result[n]['topleft']['y'])\n",
        "    br = (result[n]['bottomright']['x'], result[n]['bottomright']['y'])\n",
        "    label = result[n]['label']\n",
        "    img = cv2.rectangle(img,tl,br,(0,255,0))\n",
        "    \n",
        "  plt.figure(figsize=(20,10))    \n",
        "  plt.imshow(img)"
      ],
      "execution_count": 0,
      "outputs": []
    },
    {
      "cell_type": "code",
      "metadata": {
        "id": "KXgR1oeq7IxD",
        "colab_type": "code",
        "colab": {}
      },
      "source": [
        "def create_image_paths():\n",
        "  \n",
        "  import glob\n",
        "  # Get all image file paths to a list.\n",
        "  images = list(glob.iglob(os.path.join('/content/drive/My Drive/Todo_Tesis/LUCAS/sample_data_frames/',title, '*.*')))\n",
        "  # Sort the images by name index.\n",
        "  images = sorted(images, key=lambda x: float(os.path.split(x)[1][:-3]))\n",
        "  \n",
        "  return images"
      ],
      "execution_count": 0,
      "outputs": []
    },
    {
      "cell_type": "code",
      "metadata": {
        "id": "YJc2fXr77iYU",
        "colab_type": "code",
        "colab": {}
      },
      "source": [
        "def fps():  \n",
        "  \n",
        "  video = cv2.VideoCapture(os.path.join('/content/drive/My Drive/Todo_Tesis/LUCAS/sample_data/',title))  \n",
        "  fps = video.get(cv2.CAP_PROP_FPS)\n",
        "  print(\"Frames per second using video.get(cv2.CAP_PROP_FPS) : {0}\".format(fps))\n",
        "  video.release()\n",
        "  return fps"
      ],
      "execution_count": 0,
      "outputs": []
    },
    {
      "cell_type": "code",
      "metadata": {
        "id": "tpNqkqtt7jKN",
        "colab_type": "code",
        "colab": {}
      },
      "source": [
        "def make_video(outvid, images=None, fps=30, size=None,\n",
        "               is_color=True, format=\"FMP4\"):\n",
        "    \"\"\"\n",
        "    Create a video from a list of images.\n",
        " \n",
        "    @param      outvid      output video\n",
        "    @param      images      list of images to use in the video\n",
        "    @param      fps         frame per second\n",
        "    @param      size        size of each frame\n",
        "    @param      is_color    color\n",
        "    @param      format      see http://www.fourcc.org/codecs.php\n",
        "    @return                 see http://opencv-python-tutroals.readthedocs.org/en/latest/py_tutorials/py_gui/py_video_display/py_video_display.html\n",
        "    \"\"\"\n",
        "    from tqdm import tqdm\n",
        "    from cv2 import VideoWriter, VideoWriter_fourcc, imread, resize\n",
        "    fourcc = VideoWriter_fourcc(*format)\n",
        "    vid = None\n",
        "    for image in tqdm(images):\n",
        "        if not os.path.exists(image):\n",
        "            raise FileNotFoundError(image)\n",
        "        img = imread(image)\n",
        "        if vid is None:\n",
        "            if size is None:\n",
        "                size = img.shape[1], img.shape[0]\n",
        "            vid = VideoWriter(outvid, fourcc, float(fps), size, is_color)\n",
        "        if size[0] != img.shape[1] and size[1] != img.shape[0]:\n",
        "            img = resize(img, size)\n",
        "        vid.write(img)\n",
        "    vid.release()\n",
        "    return vid"
      ],
      "execution_count": 0,
      "outputs": []
    },
    {
      "cell_type": "markdown",
      "metadata": {
        "id": "E-nDcgkPOVG4",
        "colab_type": "text"
      },
      "source": [
        "#SACAR LOS FRAMES DE LOS VIDEOS"
      ]
    },
    {
      "cell_type": "code",
      "metadata": {
        "id": "gFs-4fJV7oZM",
        "colab_type": "code",
        "colab": {}
      },
      "source": [
        "def sample_frames():\n",
        "  import os\n",
        "  capture = cv2.VideoCapture(os.path.join('/content/drive/My Drive/Todo_Tesis/LUCAS/sample_data/',title)) \n",
        "\n",
        "  \n",
        "  frames = []\n",
        "  frame_count = 0\n",
        "\n",
        "  video_frame_path = os.path.join('/content/drive/My Drive/Todo_Tesis/LUCAS/sample_data_frames/',title)\n",
        "  \n",
        "  if not os.path.exists(video_frame_path):\n",
        "    os.makedirs(video_frame_path)\n",
        "    print('Frames Directory Created...')\n",
        "  \n",
        "  while True:\n",
        "  \n",
        "    ret, frame = capture.read()\n",
        "    frames.append(frame)\n",
        "    frame_count += 1\n",
        "  \n",
        "  \n",
        "    if not ret:\n",
        "      print(frame_count)\n",
        "      return (frames,frame_count,video_frame_path)\n",
        "      break"
      ],
      "execution_count": 0,
      "outputs": []
    },
    {
      "cell_type": "code",
      "metadata": {
        "id": "QWMXKJoj7sDt",
        "colab_type": "code",
        "colab": {}
      },
      "source": [
        "def predict_video():\n",
        "  \n",
        "  global title\n",
        "  \n",
        "  #title = download_youtube_video()\n",
        "  title = video_subido()\n",
        "   \n",
        "  frames,frame_count,video_frame_path = sample_frames()\n",
        "  \n",
        "  #load video and get every frame of it for analysis..\n",
        "  \n",
        "\n",
        "  \n",
        "  # for every frame run yolo prediction and save the frame as jpg file\n",
        "\n",
        "  for count,frame in tqdm(enumerate(frames[1:-10])):\n",
        "    \n",
        "\n",
        "    #frame = cv2.cvtColor(frame,cv2.COLOR_BGR2RGB)\n",
        "    \n",
        "    results = tfnet.return_predict(frame)\n",
        "  \n",
        "    for n,value in enumerate(results):\n",
        "      \n",
        "      tl = (results[n]['topleft']['x'], results[n]['topleft']['y'])\n",
        "      br = (results[n]['bottomright']['x'], results[n]['bottomright']['y'])\n",
        "      label = results[n]['label']\n",
        "      if label != 'person': \n",
        "        continue\n",
        "      label = 'Persona' \n",
        "      \n",
        "      sum= tl[0] + tl[1]\n",
        "      sum2= br[0] + br[1]\n",
        "      #sum = br[0] \n",
        "      \n",
        "      if sum > 800 or sum2>800:      #filtro para minimizar rectangulos grandes\n",
        "     # if sum > 400: \n",
        "        continue      \n",
        "#cv2.rectangle(img,(384,0),(510,128),(0,255,0),3)\n",
        "      frame = cv2.rectangle(frame,tl,br,(255,255,255),1)\n",
        "   #   frame = cv2.resize(frame,(1280,500))\n",
        "      \n",
        "      #frame = cv2.putText(frame,label,tl,cv2.FONT_HERSHEY_SIMPLEX,0.4,(255,255,255),1)    #BGR  BLUE GREEN RED\n",
        "      \n",
        "      \n",
        "      #frame = cv2.addText(label)\n",
        "      #frame = cv2.line(img,(0,frame.shape[0]//2),(600,img.shape[0]//2),(255,0,0),2)   \n",
        "      \n",
        "  \n",
        "    name = '{0}.jpg'.format(count)\n",
        "    \n",
        "    name = os.path.join(video_frame_path,name)  \n",
        "    cv2.imwrite(name, frame)\n",
        "    \n",
        "  print('All Frames Saved...')\n",
        " # print (\"tl:\", tl, \"br\", br) \n",
        "  \n",
        "  newpath = '/content/drive/My Drive/Todo_Tesis/LUCAS/sample_data_out/'\n",
        "  if not os.path.exists(newpath):\n",
        "    os.makedirs(newpath)\n",
        "    \n",
        "  images = create_image_paths()\n",
        "  #print(images)\n",
        "  frames_per_second = fps()\n",
        "  make_video(os.path.join('/content/drive/My Drive/Todo_Tesis/LUCAS/sample_data_out/',title), images, fps=frames_per_second)"
      ],
      "execution_count": 0,
      "outputs": []
    },
    {
      "cell_type": "markdown",
      "metadata": {
        "id": "3YExS2jgOcwX",
        "colab_type": "text"
      },
      "source": [
        "#CODIGO DE INGRESO A LOS VIDEOS UNO POR UNO DEPENDIENDO EL NOMBRE"
      ]
    },
    {
      "cell_type": "code",
      "metadata": {
        "id": "mzqyhv6c7O2z",
        "colab_type": "code",
        "colab": {}
      },
      "source": [
        "def video_subido():\n",
        "  global cll,cm,cv,ell,em,ev,aull,aum,auv\n",
        "\n",
        "  \n",
        " # streams=uploaded.default_filename\n",
        "\n",
        "  #title = 'cafeto_vacia.mp4'     #se debe cambiar cada vez que se suba un archivo nuevo\n",
        "  \n",
        "  import os\n",
        "  path ='/content/drive/My Drive/Todo_Tesis/LUCAS/sample_data'\n",
        "  for file in os.listdir(path):\n",
        "    #CAFETERIA\n",
        "    if file.endswith(\"cafeto_llena.mp4\"):\n",
        "      if cll=='1':\n",
        "        print(\"encontro\"+ file+\"entro\")\n",
        "        title = file\n",
        "        cll='0'\n",
        "        return title\n",
        "        break\n",
        "      \n",
        "    if file.endswith(\"cafeto_media.mp4\"):\n",
        "      if cm=='1':\n",
        "        print(\"encontro\"+ file+\"entro\")\n",
        "        title = file\n",
        "        cm='0'\n",
        "        return title\n",
        "        break\n",
        "      \n",
        "    if file.endswith(\"cafeto_vacia.mp4\"):\n",
        "      if cv=='1':\n",
        "        print(\"encontro\"+ file+\"entro\")\n",
        "        title = file\n",
        "        cv='0'\n",
        "        return title\n",
        "        break\n",
        "        \n",
        "    #ELECTRÓNICA   \n",
        "        \n",
        "    if file.endswith(\"electro_llena.mp4\"):\n",
        "      if ell=='1':\n",
        "        print(\"encontro\"+ file+\"entro\")\n",
        "        title = file\n",
        "        ell='0'\n",
        "        return title\n",
        "        break        \n",
        "      \n",
        "    if file.endswith(\"electro_media.mp4\"):\n",
        "      if em=='1':\n",
        "        print(\"encontro\"+ file+\"entro\")\n",
        "        title = file\n",
        "        em='0'\n",
        "        return title\n",
        "        break\n",
        "      \n",
        "    if file.endswith(\"electro_vacia.mp4\"):\n",
        "      if ev=='1':\n",
        "        print(\"encontro\"+ file+\"entro\")\n",
        "        title = file\n",
        "        ev='0'\n",
        "        return title\n",
        "        break\n",
        "  \n",
        "        \n",
        "   #AUTOMÁTICA     \n",
        "      \n",
        "    if file.endswith(\"automatica_vacia.mp4\"):\n",
        "      if auv=='1':\n",
        "        print(\"encontro\"+ file+\" : entro\")\n",
        "        title = file\n",
        "        auv='0'\n",
        "        return title\n",
        "        break\n",
        "    if file.endswith(\"automatica_llena.mp4\"):\n",
        "      if aull=='1':\n",
        "        print(\"encontro\"+ file+\"entro\")\n",
        "        title = file\n",
        "        aull='0'\n",
        "        return title\n",
        "        break\n",
        "      \n",
        "    if file.endswith(\"automatica_media.mp4\"):\n",
        "      if aum=='1':\n",
        "        print(\"encontro\"+ file+\"entro\")\n",
        "        title = file\n",
        "        aum='0'\n",
        "        return title\n",
        "        break\n",
        "  print(\"No hay archivos con los nombres solicitados\")\n",
        "  title = ' '     #se debe cambiar cada vez que se suba un archivo nuevo\n",
        "  return title"
      ],
      "execution_count": 0,
      "outputs": []
    },
    {
      "cell_type": "markdown",
      "metadata": {
        "id": "2FKrEsDnf42Z",
        "colab_type": "text"
      },
      "source": [
        "# METODO DE OPCIONES DE ELECCION MANUAL DE VIDEOS FALTANTES DONDE (0)SIGNIFICA QUE YA ESTA Y (1) QUE HACE FALTA"
      ]
    },
    {
      "cell_type": "code",
      "metadata": {
        "id": "kYN0bjKiUmMN",
        "colab_type": "code",
        "colab": {}
      },
      "source": [
        "global cll,cm,cv,ell,em,ev,aull,aum,auv\n",
        "#Cafeteria\n",
        "cll='0'\n",
        "cm='0'\n",
        "cv='0'\n",
        "#electronica\n",
        "ell='0'\n",
        "em='0'\n",
        "ev='0'\n",
        "#Automatica\n",
        "aull='0'\n",
        "aum='0'\n",
        "auv='0'"
      ],
      "execution_count": 0,
      "outputs": []
    },
    {
      "cell_type": "markdown",
      "metadata": {
        "id": "Lixm9RSQOxc-",
        "colab_type": "text"
      },
      "source": [
        "# INICIO DE TODOS LOS METODOS DE YOLO EL CULA SACARA LOS FRAMES DE LOS VIDOS SEGUN SU NOMBRE Y POSTERIORMENTE IDENTIFICARA LAS PERSONAS EN CADA FRAME"
      ]
    },
    {
      "cell_type": "code",
      "metadata": {
        "id": "0cHSkGM073A_",
        "colab_type": "code",
        "colab": {}
      },
      "source": [
        "for a in range(0 , 8):\n",
        "  predict_video()"
      ],
      "execution_count": 0,
      "outputs": []
    },
    {
      "cell_type": "markdown",
      "metadata": {
        "id": "ZaEM9-_GTn10",
        "colab_type": "text"
      },
      "source": [
        "# METODOS TFP"
      ]
    },
    {
      "cell_type": "code",
      "metadata": {
        "id": "gata4UsdTsoF",
        "colab_type": "code",
        "colab": {}
      },
      "source": [
        "!cp -r /content/drive/My Drive/Todo_Tesis_Final/Dataset/Dataset_listo/ /content/drive/My Drive/Todo_Tesis_Final/tensorflow-for-poets-2/tf_files/ocupacion\n",
        "\n",
        "\n",
        "#ENTRENAMIENTO DE LA RED NEURONAL DE CLASIFICACION\n",
        "\n",
        "%cd /content/drive/My Drive/Todo_Tesis_Final/tensorflow-for-poets-2\n",
        "!python -m scripts.retrain \\\n",
        "  --bottleneck_dir=tf_files/bottlenecks \\\n",
        "  --how_many_training_steps=5000 \\ # variar al gusto\n",
        "  --model_dir=tf_files/models/ \\\n",
        "  --summaries_dir=tf_files/training_summaries/\"mobilenet_0.50_224\" \\\n",
        "  --output_graph retrained_graph.pb\\\n",
        "  --output_labels retrained_labels.txt\\\n",
        "  --architecture \"mobilenet_0.50_224\" \\\n",
        "  --image_dir=tf_files/\n",
        "\n",
        "#DIRECCIONAMOS LOS GRPHS Y LABELS A LA CARPETA QUE DEBEN ESTAR LA CUAL ES TF_FILES\n",
        "!mv retrained_graph.pb tf_files\n",
        "!mv retrained_labels.txt tf_files"
      ],
      "execution_count": 0,
      "outputs": []
    },
    {
      "cell_type": "markdown",
      "metadata": {
        "id": "fc1_Bw0Bbs8q",
        "colab_type": "text"
      },
      "source": [
        "Busqueda de documentos"
      ]
    },
    {
      "cell_type": "code",
      "metadata": {
        "id": "yGnNOnGMbrwT",
        "colab_type": "code",
        "colab": {}
      },
      "source": [
        "%cd /content/drive/My Drive\n",
        "path='/content/drive/My Drive'\n",
        "import os\n",
        "print(\"inicio\")\n",
        "for file in os.listdir(path):\n",
        "  print(\"bus\")\n",
        "  if file.endswith(\"Todo_Tesis_Final\"):\n",
        "    print(\"encontre\")\n",
        " "
      ],
      "execution_count": 0,
      "outputs": []
    }
  ]
}